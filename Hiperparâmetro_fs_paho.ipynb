{
  "nbformat": 4,
  "nbformat_minor": 0,
  "metadata": {
    "colab": {
      "provenance": [],
      "collapsed_sections": [
        "DSyK1BpTh8wW",
        "h9RuiZDah-6z",
        "T6E7ALyekHED"
      ],
      "authorship_tag": "ABX9TyMUerxB8fT+b2CxAWc/iI1w",
      "include_colab_link": true
    },
    "kernelspec": {
      "name": "python3",
      "display_name": "Python 3"
    },
    "language_info": {
      "name": "python"
    }
  },
  "cells": [
    {
      "cell_type": "markdown",
      "metadata": {
        "id": "view-in-github",
        "colab_type": "text"
      },
      "source": [
        "<a href=\"https://colab.research.google.com/github/gabriel-masson/Chika_2025.1/blob/main/Hiperpar%C3%A2metro_fs_paho.ipynb\" target=\"_parent\"><img src=\"https://colab.research.google.com/assets/colab-badge.svg\" alt=\"Open In Colab\"/></a>"
      ]
    },
    {
      "cell_type": "markdown",
      "source": [
        "#Introduction"
      ],
      "metadata": {
        "id": "6QPT2G2xfqN8"
      }
    },
    {
      "cell_type": "code",
      "source": [
        "from google.colab import drive\n",
        "drive.mount('/content/drive')"
      ],
      "metadata": {
        "colab": {
          "base_uri": "https://localhost:8080/"
        },
        "id": "54R7Tk1uouOa",
        "outputId": "b6f804c3-c405-48dd-bc36-b12c5a3d20e7"
      },
      "execution_count": 2,
      "outputs": [
        {
          "output_type": "stream",
          "name": "stdout",
          "text": [
            "Mounted at /content/drive\n"
          ]
        }
      ]
    },
    {
      "cell_type": "code",
      "source": [
        "!pip install scikit-optimize"
      ],
      "metadata": {
        "colab": {
          "base_uri": "https://localhost:8080/"
        },
        "id": "nESVI7bNeQ6K",
        "outputId": "519137e5-fbf3-4f5c-ecb0-54998b862ba9"
      },
      "execution_count": 21,
      "outputs": [
        {
          "output_type": "stream",
          "name": "stdout",
          "text": [
            "Requirement already satisfied: scikit-optimize in /usr/local/lib/python3.11/dist-packages (0.10.2)\n",
            "Requirement already satisfied: joblib>=0.11 in /usr/local/lib/python3.11/dist-packages (from scikit-optimize) (1.5.1)\n",
            "Requirement already satisfied: pyaml>=16.9 in /usr/local/lib/python3.11/dist-packages (from scikit-optimize) (25.7.0)\n",
            "Requirement already satisfied: numpy>=1.20.3 in /usr/local/lib/python3.11/dist-packages (from scikit-optimize) (2.0.2)\n",
            "Requirement already satisfied: scipy>=1.1.0 in /usr/local/lib/python3.11/dist-packages (from scikit-optimize) (1.16.0)\n",
            "Requirement already satisfied: scikit-learn>=1.0.0 in /usr/local/lib/python3.11/dist-packages (from scikit-optimize) (1.6.1)\n",
            "Requirement already satisfied: packaging>=21.3 in /usr/local/lib/python3.11/dist-packages (from scikit-optimize) (25.0)\n",
            "Requirement already satisfied: PyYAML in /usr/local/lib/python3.11/dist-packages (from pyaml>=16.9->scikit-optimize) (6.0.2)\n",
            "Requirement already satisfied: threadpoolctl>=3.1.0 in /usr/local/lib/python3.11/dist-packages (from scikit-learn>=1.0.0->scikit-optimize) (3.6.0)\n"
          ]
        }
      ]
    },
    {
      "cell_type": "code",
      "source": [
        "!pip install catboost"
      ],
      "metadata": {
        "colab": {
          "base_uri": "https://localhost:8080/"
        },
        "id": "gZP3f4gFlIQs",
        "outputId": "d0b1b72b-81db-42bc-be35-525cdd57c2c9"
      },
      "execution_count": 19,
      "outputs": [
        {
          "output_type": "stream",
          "name": "stdout",
          "text": [
            "Collecting catboost\n",
            "  Downloading catboost-1.2.8-cp311-cp311-manylinux2014_x86_64.whl.metadata (1.2 kB)\n",
            "Requirement already satisfied: graphviz in /usr/local/lib/python3.11/dist-packages (from catboost) (0.21)\n",
            "Requirement already satisfied: matplotlib in /usr/local/lib/python3.11/dist-packages (from catboost) (3.10.0)\n",
            "Requirement already satisfied: numpy<3.0,>=1.16.0 in /usr/local/lib/python3.11/dist-packages (from catboost) (2.0.2)\n",
            "Requirement already satisfied: pandas>=0.24 in /usr/local/lib/python3.11/dist-packages (from catboost) (2.2.2)\n",
            "Requirement already satisfied: scipy in /usr/local/lib/python3.11/dist-packages (from catboost) (1.16.0)\n",
            "Requirement already satisfied: plotly in /usr/local/lib/python3.11/dist-packages (from catboost) (5.24.1)\n",
            "Requirement already satisfied: six in /usr/local/lib/python3.11/dist-packages (from catboost) (1.17.0)\n",
            "Requirement already satisfied: python-dateutil>=2.8.2 in /usr/local/lib/python3.11/dist-packages (from pandas>=0.24->catboost) (2.9.0.post0)\n",
            "Requirement already satisfied: pytz>=2020.1 in /usr/local/lib/python3.11/dist-packages (from pandas>=0.24->catboost) (2025.2)\n",
            "Requirement already satisfied: tzdata>=2022.7 in /usr/local/lib/python3.11/dist-packages (from pandas>=0.24->catboost) (2025.2)\n",
            "Requirement already satisfied: contourpy>=1.0.1 in /usr/local/lib/python3.11/dist-packages (from matplotlib->catboost) (1.3.2)\n",
            "Requirement already satisfied: cycler>=0.10 in /usr/local/lib/python3.11/dist-packages (from matplotlib->catboost) (0.12.1)\n",
            "Requirement already satisfied: fonttools>=4.22.0 in /usr/local/lib/python3.11/dist-packages (from matplotlib->catboost) (4.59.0)\n",
            "Requirement already satisfied: kiwisolver>=1.3.1 in /usr/local/lib/python3.11/dist-packages (from matplotlib->catboost) (1.4.8)\n",
            "Requirement already satisfied: packaging>=20.0 in /usr/local/lib/python3.11/dist-packages (from matplotlib->catboost) (25.0)\n",
            "Requirement already satisfied: pillow>=8 in /usr/local/lib/python3.11/dist-packages (from matplotlib->catboost) (11.3.0)\n",
            "Requirement already satisfied: pyparsing>=2.3.1 in /usr/local/lib/python3.11/dist-packages (from matplotlib->catboost) (3.2.3)\n",
            "Requirement already satisfied: tenacity>=6.2.0 in /usr/local/lib/python3.11/dist-packages (from plotly->catboost) (8.5.0)\n",
            "Downloading catboost-1.2.8-cp311-cp311-manylinux2014_x86_64.whl (99.2 MB)\n",
            "\u001b[2K   \u001b[90m━━━━━━━━━━━━━━━━━━━━━━━━━━━━━━━━━━━━━━━━\u001b[0m \u001b[32m99.2/99.2 MB\u001b[0m \u001b[31m9.0 MB/s\u001b[0m eta \u001b[36m0:00:00\u001b[0m\n",
            "\u001b[?25hInstalling collected packages: catboost\n",
            "Successfully installed catboost-1.2.8\n"
          ]
        }
      ]
    },
    {
      "cell_type": "code",
      "source": [
        "import pandas as pd\n",
        "import numpy as np\n",
        "\n",
        "from sklearn.neural_network import MLPClassifier\n",
        "\n",
        "from sklearn.neural_network import MLPClassifier\n",
        "from sklearn.svm import SVC\n",
        "from sklearn.ensemble import RandomForestClassifier\n",
        "import xgboost as xgb\n",
        "from sklearn.ensemble import AdaBoostClassifier\n",
        "from sklearn.ensemble import GradientBoostingClassifier\n",
        "from sklearn.tree import DecisionTreeClassifier\n",
        "\n",
        "from imblearn.under_sampling import RandomUnderSampler\n",
        "from imblearn.over_sampling import RandomOverSampler\n",
        "\n",
        "\n",
        "from sklearn.model_selection import cross_val_score, LeaveOneOut, KFold\n",
        "\n",
        "from imblearn.under_sampling import RandomUnderSampler\n",
        "\n",
        "from sklearn.model_selection import train_test_split\n",
        "\n",
        "from sklearn.metrics import accuracy_score, roc_auc_score, confusion_matrix, classification_report\n",
        "\n",
        "from sklearn.model_selection import cross_validate\n",
        "from sklearn.metrics import make_scorer, f1_score\n",
        "\n",
        "import matplotlib.pyplot as plt\n",
        "import seaborn as sns\n",
        "\n",
        "from skopt import BayesSearchCV\n",
        "from skopt.space import Real, Categorical, Integer\n",
        "import catboost"
      ],
      "metadata": {
        "id": "qIXJVip6pMs6"
      },
      "execution_count": 20,
      "outputs": []
    },
    {
      "cell_type": "markdown",
      "source": [
        "#-"
      ],
      "metadata": {
        "id": "y6fVoTQs-7Hz"
      }
    },
    {
      "cell_type": "code",
      "source": [
        "df = pd.read_excel('/content/drive/MyDrive/_MESTRADO/REPLICK/Base de Dados/V2_BANCO_DOTLAB_347.xlsx')\n",
        "df.head()"
      ],
      "metadata": {
        "colab": {
          "base_uri": "https://localhost:8080/",
          "height": 446
        },
        "id": "vc7ZhVHwpU97",
        "outputId": "7daeae46-4b25-4adc-a6fe-22e8e5f3a025"
      },
      "execution_count": 5,
      "outputs": [
        {
          "output_type": "execute_result",
          "data": {
            "text/plain": [
              "      PID D0_Diagnóstico CHIKV D0_Método diagnóstico  \\\n",
              "0  REC001             Positivo                  TR     \n",
              "1  REC002             Positivo                  TR     \n",
              "2  REC004             Positivo         RT-qPCR (ZDC)   \n",
              "3  REC005             Positivo                  TR     \n",
              "4  REC006             Positivo                  TR     \n",
              "\n",
              "  D0_Data de início dos sintomas D0_Data de recrutamento D0_Fase CHIKF (D0)  \\\n",
              "0                     2019-08-01              2019-09-09           Subagudo   \n",
              "1                     2019-09-01              2019-09-16           Subagudo   \n",
              "2                     2020-07-04              2020-07-08              Agudo   \n",
              "3                     2020-05-26              2020-07-08           Subagudo   \n",
              "4                     2020-06-19              2020-07-13           Subagudo   \n",
              "\n",
              "   D0_DPIS ambulat-D0  D0_Dias após inicio de sintomas (DPIS)- recrut  \\\n",
              "0                  28                                              39   \n",
              "1                  10                                              15   \n",
              "2                   4                                               4   \n",
              "3                  43                                              43   \n",
              "4                  24                                              24   \n",
              "\n",
              "   D0_Novo critério (0-3/4-10)  D0_Critério anterior (0/1-10)  ...  \\\n",
              "0                            1                              1  ...   \n",
              "1                            1                              1  ...   \n",
              "2                            1                              1  ...   \n",
              "3                            1                              1  ...   \n",
              "4                            1                              1  ...   \n",
              "\n",
              "  D0_intensdor_dedomaod  D0_intensdor_quadrile  D0_intensdor_quadrild  \\\n",
              "0                     4                      1                      1   \n",
              "1                     4                      4                      4   \n",
              "2                     4                      1                      1   \n",
              "3                     3                      2                      2   \n",
              "4                     2                      1                      1   \n",
              "\n",
              "   D0_intensdor_joelhoe D0_intensdor_joelhod  D0_intensdor_tornozeloe  \\\n",
              "0                     3                    3                        4   \n",
              "1                     4                    4                        4   \n",
              "2                     1                    1                        1   \n",
              "3                     2                    2                        4   \n",
              "4                     1                    1                        2   \n",
              "\n",
              "   D0_intensdor_tornozelod D0_intensdor_dedopee D0_intensdor_dedoped  \\\n",
              "0                        4                    3                    2   \n",
              "1                        4                    1                    1   \n",
              "2                        1                    1                    1   \n",
              "3                        4                    3                    3   \n",
              "4                        2                    3                    2   \n",
              "\n",
              "   D0_categoria_ativdoenca  \n",
              "0                        3  \n",
              "1                        2  \n",
              "2                        4  \n",
              "3                        4  \n",
              "4                        3  \n",
              "\n",
              "[5 rows x 252 columns]"
            ],
            "text/html": [
              "\n",
              "  <div id=\"df-c4b05fd2-c712-4b35-847b-4ffbfac98233\" class=\"colab-df-container\">\n",
              "    <div>\n",
              "<style scoped>\n",
              "    .dataframe tbody tr th:only-of-type {\n",
              "        vertical-align: middle;\n",
              "    }\n",
              "\n",
              "    .dataframe tbody tr th {\n",
              "        vertical-align: top;\n",
              "    }\n",
              "\n",
              "    .dataframe thead th {\n",
              "        text-align: right;\n",
              "    }\n",
              "</style>\n",
              "<table border=\"1\" class=\"dataframe\">\n",
              "  <thead>\n",
              "    <tr style=\"text-align: right;\">\n",
              "      <th></th>\n",
              "      <th>PID</th>\n",
              "      <th>D0_Diagnóstico CHIKV</th>\n",
              "      <th>D0_Método diagnóstico</th>\n",
              "      <th>D0_Data de início dos sintomas</th>\n",
              "      <th>D0_Data de recrutamento</th>\n",
              "      <th>D0_Fase CHIKF (D0)</th>\n",
              "      <th>D0_DPIS ambulat-D0</th>\n",
              "      <th>D0_Dias após inicio de sintomas (DPIS)- recrut</th>\n",
              "      <th>D0_Novo critério (0-3/4-10)</th>\n",
              "      <th>D0_Critério anterior (0/1-10)</th>\n",
              "      <th>...</th>\n",
              "      <th>D0_intensdor_dedomaod</th>\n",
              "      <th>D0_intensdor_quadrile</th>\n",
              "      <th>D0_intensdor_quadrild</th>\n",
              "      <th>D0_intensdor_joelhoe</th>\n",
              "      <th>D0_intensdor_joelhod</th>\n",
              "      <th>D0_intensdor_tornozeloe</th>\n",
              "      <th>D0_intensdor_tornozelod</th>\n",
              "      <th>D0_intensdor_dedopee</th>\n",
              "      <th>D0_intensdor_dedoped</th>\n",
              "      <th>D0_categoria_ativdoenca</th>\n",
              "    </tr>\n",
              "  </thead>\n",
              "  <tbody>\n",
              "    <tr>\n",
              "      <th>0</th>\n",
              "      <td>REC001</td>\n",
              "      <td>Positivo</td>\n",
              "      <td>TR</td>\n",
              "      <td>2019-08-01</td>\n",
              "      <td>2019-09-09</td>\n",
              "      <td>Subagudo</td>\n",
              "      <td>28</td>\n",
              "      <td>39</td>\n",
              "      <td>1</td>\n",
              "      <td>1</td>\n",
              "      <td>...</td>\n",
              "      <td>4</td>\n",
              "      <td>1</td>\n",
              "      <td>1</td>\n",
              "      <td>3</td>\n",
              "      <td>3</td>\n",
              "      <td>4</td>\n",
              "      <td>4</td>\n",
              "      <td>3</td>\n",
              "      <td>2</td>\n",
              "      <td>3</td>\n",
              "    </tr>\n",
              "    <tr>\n",
              "      <th>1</th>\n",
              "      <td>REC002</td>\n",
              "      <td>Positivo</td>\n",
              "      <td>TR</td>\n",
              "      <td>2019-09-01</td>\n",
              "      <td>2019-09-16</td>\n",
              "      <td>Subagudo</td>\n",
              "      <td>10</td>\n",
              "      <td>15</td>\n",
              "      <td>1</td>\n",
              "      <td>1</td>\n",
              "      <td>...</td>\n",
              "      <td>4</td>\n",
              "      <td>4</td>\n",
              "      <td>4</td>\n",
              "      <td>4</td>\n",
              "      <td>4</td>\n",
              "      <td>4</td>\n",
              "      <td>4</td>\n",
              "      <td>1</td>\n",
              "      <td>1</td>\n",
              "      <td>2</td>\n",
              "    </tr>\n",
              "    <tr>\n",
              "      <th>2</th>\n",
              "      <td>REC004</td>\n",
              "      <td>Positivo</td>\n",
              "      <td>RT-qPCR (ZDC)</td>\n",
              "      <td>2020-07-04</td>\n",
              "      <td>2020-07-08</td>\n",
              "      <td>Agudo</td>\n",
              "      <td>4</td>\n",
              "      <td>4</td>\n",
              "      <td>1</td>\n",
              "      <td>1</td>\n",
              "      <td>...</td>\n",
              "      <td>4</td>\n",
              "      <td>1</td>\n",
              "      <td>1</td>\n",
              "      <td>1</td>\n",
              "      <td>1</td>\n",
              "      <td>1</td>\n",
              "      <td>1</td>\n",
              "      <td>1</td>\n",
              "      <td>1</td>\n",
              "      <td>4</td>\n",
              "    </tr>\n",
              "    <tr>\n",
              "      <th>3</th>\n",
              "      <td>REC005</td>\n",
              "      <td>Positivo</td>\n",
              "      <td>TR</td>\n",
              "      <td>2020-05-26</td>\n",
              "      <td>2020-07-08</td>\n",
              "      <td>Subagudo</td>\n",
              "      <td>43</td>\n",
              "      <td>43</td>\n",
              "      <td>1</td>\n",
              "      <td>1</td>\n",
              "      <td>...</td>\n",
              "      <td>3</td>\n",
              "      <td>2</td>\n",
              "      <td>2</td>\n",
              "      <td>2</td>\n",
              "      <td>2</td>\n",
              "      <td>4</td>\n",
              "      <td>4</td>\n",
              "      <td>3</td>\n",
              "      <td>3</td>\n",
              "      <td>4</td>\n",
              "    </tr>\n",
              "    <tr>\n",
              "      <th>4</th>\n",
              "      <td>REC006</td>\n",
              "      <td>Positivo</td>\n",
              "      <td>TR</td>\n",
              "      <td>2020-06-19</td>\n",
              "      <td>2020-07-13</td>\n",
              "      <td>Subagudo</td>\n",
              "      <td>24</td>\n",
              "      <td>24</td>\n",
              "      <td>1</td>\n",
              "      <td>1</td>\n",
              "      <td>...</td>\n",
              "      <td>2</td>\n",
              "      <td>1</td>\n",
              "      <td>1</td>\n",
              "      <td>1</td>\n",
              "      <td>1</td>\n",
              "      <td>2</td>\n",
              "      <td>2</td>\n",
              "      <td>3</td>\n",
              "      <td>2</td>\n",
              "      <td>3</td>\n",
              "    </tr>\n",
              "  </tbody>\n",
              "</table>\n",
              "<p>5 rows × 252 columns</p>\n",
              "</div>\n",
              "    <div class=\"colab-df-buttons\">\n",
              "\n",
              "  <div class=\"colab-df-container\">\n",
              "    <button class=\"colab-df-convert\" onclick=\"convertToInteractive('df-c4b05fd2-c712-4b35-847b-4ffbfac98233')\"\n",
              "            title=\"Convert this dataframe to an interactive table.\"\n",
              "            style=\"display:none;\">\n",
              "\n",
              "  <svg xmlns=\"http://www.w3.org/2000/svg\" height=\"24px\" viewBox=\"0 -960 960 960\">\n",
              "    <path d=\"M120-120v-720h720v720H120Zm60-500h600v-160H180v160Zm220 220h160v-160H400v160Zm0 220h160v-160H400v160ZM180-400h160v-160H180v160Zm440 0h160v-160H620v160ZM180-180h160v-160H180v160Zm440 0h160v-160H620v160Z\"/>\n",
              "  </svg>\n",
              "    </button>\n",
              "\n",
              "  <style>\n",
              "    .colab-df-container {\n",
              "      display:flex;\n",
              "      gap: 12px;\n",
              "    }\n",
              "\n",
              "    .colab-df-convert {\n",
              "      background-color: #E8F0FE;\n",
              "      border: none;\n",
              "      border-radius: 50%;\n",
              "      cursor: pointer;\n",
              "      display: none;\n",
              "      fill: #1967D2;\n",
              "      height: 32px;\n",
              "      padding: 0 0 0 0;\n",
              "      width: 32px;\n",
              "    }\n",
              "\n",
              "    .colab-df-convert:hover {\n",
              "      background-color: #E2EBFA;\n",
              "      box-shadow: 0px 1px 2px rgba(60, 64, 67, 0.3), 0px 1px 3px 1px rgba(60, 64, 67, 0.15);\n",
              "      fill: #174EA6;\n",
              "    }\n",
              "\n",
              "    .colab-df-buttons div {\n",
              "      margin-bottom: 4px;\n",
              "    }\n",
              "\n",
              "    [theme=dark] .colab-df-convert {\n",
              "      background-color: #3B4455;\n",
              "      fill: #D2E3FC;\n",
              "    }\n",
              "\n",
              "    [theme=dark] .colab-df-convert:hover {\n",
              "      background-color: #434B5C;\n",
              "      box-shadow: 0px 1px 3px 1px rgba(0, 0, 0, 0.15);\n",
              "      filter: drop-shadow(0px 1px 2px rgba(0, 0, 0, 0.3));\n",
              "      fill: #FFFFFF;\n",
              "    }\n",
              "  </style>\n",
              "\n",
              "    <script>\n",
              "      const buttonEl =\n",
              "        document.querySelector('#df-c4b05fd2-c712-4b35-847b-4ffbfac98233 button.colab-df-convert');\n",
              "      buttonEl.style.display =\n",
              "        google.colab.kernel.accessAllowed ? 'block' : 'none';\n",
              "\n",
              "      async function convertToInteractive(key) {\n",
              "        const element = document.querySelector('#df-c4b05fd2-c712-4b35-847b-4ffbfac98233');\n",
              "        const dataTable =\n",
              "          await google.colab.kernel.invokeFunction('convertToInteractive',\n",
              "                                                    [key], {});\n",
              "        if (!dataTable) return;\n",
              "\n",
              "        const docLinkHtml = 'Like what you see? Visit the ' +\n",
              "          '<a target=\"_blank\" href=https://colab.research.google.com/notebooks/data_table.ipynb>data table notebook</a>'\n",
              "          + ' to learn more about interactive tables.';\n",
              "        element.innerHTML = '';\n",
              "        dataTable['output_type'] = 'display_data';\n",
              "        await google.colab.output.renderOutput(dataTable, element);\n",
              "        const docLink = document.createElement('div');\n",
              "        docLink.innerHTML = docLinkHtml;\n",
              "        element.appendChild(docLink);\n",
              "      }\n",
              "    </script>\n",
              "  </div>\n",
              "\n",
              "\n",
              "    <div id=\"df-a5a94fa2-73d7-40d1-b9ce-3a40abac8ec4\">\n",
              "      <button class=\"colab-df-quickchart\" onclick=\"quickchart('df-a5a94fa2-73d7-40d1-b9ce-3a40abac8ec4')\"\n",
              "                title=\"Suggest charts\"\n",
              "                style=\"display:none;\">\n",
              "\n",
              "<svg xmlns=\"http://www.w3.org/2000/svg\" height=\"24px\"viewBox=\"0 0 24 24\"\n",
              "     width=\"24px\">\n",
              "    <g>\n",
              "        <path d=\"M19 3H5c-1.1 0-2 .9-2 2v14c0 1.1.9 2 2 2h14c1.1 0 2-.9 2-2V5c0-1.1-.9-2-2-2zM9 17H7v-7h2v7zm4 0h-2V7h2v10zm4 0h-2v-4h2v4z\"/>\n",
              "    </g>\n",
              "</svg>\n",
              "      </button>\n",
              "\n",
              "<style>\n",
              "  .colab-df-quickchart {\n",
              "      --bg-color: #E8F0FE;\n",
              "      --fill-color: #1967D2;\n",
              "      --hover-bg-color: #E2EBFA;\n",
              "      --hover-fill-color: #174EA6;\n",
              "      --disabled-fill-color: #AAA;\n",
              "      --disabled-bg-color: #DDD;\n",
              "  }\n",
              "\n",
              "  [theme=dark] .colab-df-quickchart {\n",
              "      --bg-color: #3B4455;\n",
              "      --fill-color: #D2E3FC;\n",
              "      --hover-bg-color: #434B5C;\n",
              "      --hover-fill-color: #FFFFFF;\n",
              "      --disabled-bg-color: #3B4455;\n",
              "      --disabled-fill-color: #666;\n",
              "  }\n",
              "\n",
              "  .colab-df-quickchart {\n",
              "    background-color: var(--bg-color);\n",
              "    border: none;\n",
              "    border-radius: 50%;\n",
              "    cursor: pointer;\n",
              "    display: none;\n",
              "    fill: var(--fill-color);\n",
              "    height: 32px;\n",
              "    padding: 0;\n",
              "    width: 32px;\n",
              "  }\n",
              "\n",
              "  .colab-df-quickchart:hover {\n",
              "    background-color: var(--hover-bg-color);\n",
              "    box-shadow: 0 1px 2px rgba(60, 64, 67, 0.3), 0 1px 3px 1px rgba(60, 64, 67, 0.15);\n",
              "    fill: var(--button-hover-fill-color);\n",
              "  }\n",
              "\n",
              "  .colab-df-quickchart-complete:disabled,\n",
              "  .colab-df-quickchart-complete:disabled:hover {\n",
              "    background-color: var(--disabled-bg-color);\n",
              "    fill: var(--disabled-fill-color);\n",
              "    box-shadow: none;\n",
              "  }\n",
              "\n",
              "  .colab-df-spinner {\n",
              "    border: 2px solid var(--fill-color);\n",
              "    border-color: transparent;\n",
              "    border-bottom-color: var(--fill-color);\n",
              "    animation:\n",
              "      spin 1s steps(1) infinite;\n",
              "  }\n",
              "\n",
              "  @keyframes spin {\n",
              "    0% {\n",
              "      border-color: transparent;\n",
              "      border-bottom-color: var(--fill-color);\n",
              "      border-left-color: var(--fill-color);\n",
              "    }\n",
              "    20% {\n",
              "      border-color: transparent;\n",
              "      border-left-color: var(--fill-color);\n",
              "      border-top-color: var(--fill-color);\n",
              "    }\n",
              "    30% {\n",
              "      border-color: transparent;\n",
              "      border-left-color: var(--fill-color);\n",
              "      border-top-color: var(--fill-color);\n",
              "      border-right-color: var(--fill-color);\n",
              "    }\n",
              "    40% {\n",
              "      border-color: transparent;\n",
              "      border-right-color: var(--fill-color);\n",
              "      border-top-color: var(--fill-color);\n",
              "    }\n",
              "    60% {\n",
              "      border-color: transparent;\n",
              "      border-right-color: var(--fill-color);\n",
              "    }\n",
              "    80% {\n",
              "      border-color: transparent;\n",
              "      border-right-color: var(--fill-color);\n",
              "      border-bottom-color: var(--fill-color);\n",
              "    }\n",
              "    90% {\n",
              "      border-color: transparent;\n",
              "      border-bottom-color: var(--fill-color);\n",
              "    }\n",
              "  }\n",
              "</style>\n",
              "\n",
              "      <script>\n",
              "        async function quickchart(key) {\n",
              "          const quickchartButtonEl =\n",
              "            document.querySelector('#' + key + ' button');\n",
              "          quickchartButtonEl.disabled = true;  // To prevent multiple clicks.\n",
              "          quickchartButtonEl.classList.add('colab-df-spinner');\n",
              "          try {\n",
              "            const charts = await google.colab.kernel.invokeFunction(\n",
              "                'suggestCharts', [key], {});\n",
              "          } catch (error) {\n",
              "            console.error('Error during call to suggestCharts:', error);\n",
              "          }\n",
              "          quickchartButtonEl.classList.remove('colab-df-spinner');\n",
              "          quickchartButtonEl.classList.add('colab-df-quickchart-complete');\n",
              "        }\n",
              "        (() => {\n",
              "          let quickchartButtonEl =\n",
              "            document.querySelector('#df-a5a94fa2-73d7-40d1-b9ce-3a40abac8ec4 button');\n",
              "          quickchartButtonEl.style.display =\n",
              "            google.colab.kernel.accessAllowed ? 'block' : 'none';\n",
              "        })();\n",
              "      </script>\n",
              "    </div>\n",
              "\n",
              "    </div>\n",
              "  </div>\n"
            ],
            "application/vnd.google.colaboratory.intrinsic+json": {
              "type": "dataframe",
              "variable_name": "df"
            }
          },
          "metadata": {},
          "execution_count": 5
        }
      ]
    },
    {
      "cell_type": "code",
      "source": [
        "df.info()"
      ],
      "metadata": {
        "colab": {
          "base_uri": "https://localhost:8080/"
        },
        "id": "XY4tOS-Yt1QR",
        "outputId": "3085f7ed-aa66-4a41-9d82-d7cb581ca3e5"
      },
      "execution_count": null,
      "outputs": [
        {
          "output_type": "stream",
          "name": "stdout",
          "text": [
            "<class 'pandas.core.frame.DataFrame'>\n",
            "RangeIndex: 347 entries, 0 to 346\n",
            "Columns: 252 entries, PID to D0_categoria_ativdoenca\n",
            "dtypes: datetime64[ns](4), float64(12), int64(227), object(9)\n",
            "memory usage: 683.3+ KB\n"
          ]
        }
      ]
    },
    {
      "cell_type": "markdown",
      "source": [
        "##Pré-processamento"
      ],
      "metadata": {
        "id": "cGwWVHPysXOj"
      }
    },
    {
      "cell_type": "code",
      "source": [
        "def avaliation_model(y_test,y_pred):\n",
        "  metricas = pd.DataFrame(classification_report(y_test, y_pred, output_dict=True, zero_division=1)).round(4).T.drop('support', axis=1)\n",
        "  metricas.drop(['macro avg', 'weighted avg'], axis=0, inplace=True)\n",
        "  auc = roc_auc_score(y_test, y_pred)\n",
        "\n",
        "  accuracy= (metricas.loc[\"accuracy\", \"f1-score\"]*100).round(6)\n",
        "  recall= (metricas.loc[\"1\", \"recall\"]*100).round(6)\n",
        "  especificity= (metricas.loc[\"0\", \"recall\"]*100).round(6)\n",
        "  precision= (metricas.loc[\"1\", \"precision\"]*100).round(6)\n",
        "  f1_score= (metricas.loc[\"1\", \"f1-score\"]*100).round(6)\n",
        "  AUC= (auc*100).round(2)\n",
        "  print(f'Accuracy: {accuracy}')\n",
        "  print(f'Recall: {recall}')\n",
        "  print(f'Rspecificity: {especificity}')\n",
        "  print(f'Precision: {precision}')\n",
        "  print(f'F1_score: {f1_score}')\n",
        "  print(f'AUC: {AUC}')\n"
      ],
      "metadata": {
        "id": "nZzX6P5NjEo4"
      },
      "execution_count": null,
      "outputs": []
    },
    {
      "cell_type": "code",
      "source": [
        "def cross_val_models_f1(df_train, model):\n",
        "    X = df_train.drop('D0_Novo critério (0-3/4-10)', axis=1)\n",
        "    y = df_train['D0_Novo critério (0-3/4-10)'].astype(int)\n",
        "\n",
        "    kf = KFold(n_splits=10, shuffle=True, random_state=1)\n",
        "    f1_scorer = make_scorer(f1_score, average='weighted')\n",
        "\n",
        "    cross_model = cross_validate(model, X, y, cv=kf, scoring=f1_scorer)\n",
        "    return cross_model['test_score']"
      ],
      "metadata": {
        "id": "-S5chNUDoLFg"
      },
      "execution_count": null,
      "outputs": []
    },
    {
      "cell_type": "code",
      "execution_count": 6,
      "metadata": {
        "id": "qSiXGMZvoqt1"
      },
      "outputs": [],
      "source": [
        "#Features segundo GUIDELINES FOR THE CLINICAL DIAGNOSIS AND TREATMENT OF DENGUE, CHIKUNGUNYA, AND ZIKA By PAHO\n",
        "\n",
        "features = [ 'D0_idade', 'D0_genero', 'D0_cor',\n",
        "\n",
        "            'D0_febre_episodio1',         'D0_cefaleia_episodio1',          'D0_fadiga_episodio1',\n",
        "             'D0_palidez_episodio1',     'D0_hiperemia_episodio1',          'D0_turvacao_episodio1',\n",
        "             'D0_nausea_episodio1',      'D0_vomito_episodio1',             'D0_diarreia_episodio1',\n",
        "             'D0_parestesia_episodio1',  'D0_disestesia_episodio1',         'D0_artralgia_episodio1',\n",
        "             'D0_edema_episodio1',       'D0_mialgia_episodio1',            'D0_lombalgia_episodio1',\n",
        "             'D0_prurido_episodio1',     'D0_rash_episodio1',               'D0_lesoes_episodio1',\n",
        "             'D0_alopecia_episodio1',    'D0_alteracaomemoria_episodio1',   'D0_alteracaolibido_episodio1',\n",
        "             'D0_enpp_fadiga',\n",
        "\n",
        "             'D0_intensdor_ombroe',\n",
        "             'D0_intensdor_ombrod',\n",
        "             'D0_intensdor_punhoe',\n",
        "             'D0_intensdor_punhod',\n",
        "             'D0_intensdor_dedomaoe',\n",
        "             'D0_intensdor_dedomaod',\n",
        "             'D0_intensdor_joelhoe',\n",
        "             'D0_intensdor_joelhod',\n",
        "             'D0_intensdor_tornozeloe',\n",
        "             'D0_intensdor_tornozelod',\n",
        "             'D0_intensdor_dedopee',\n",
        "             'D0_intensdor_dedoped',\n",
        "             'D0_Novo critério (0-3/4-10)',\n",
        "]\n",
        "\n",
        "df_train = df[features]"
      ]
    },
    {
      "cell_type": "code",
      "source": [
        "df_train.fillna(0, inplace=True)"
      ],
      "metadata": {
        "colab": {
          "base_uri": "https://localhost:8080/"
        },
        "id": "D-q4gCdifoWQ",
        "outputId": "209b247e-970f-443a-dcb0-6b6a774e002e"
      },
      "execution_count": 8,
      "outputs": [
        {
          "output_type": "stream",
          "name": "stderr",
          "text": [
            "/tmp/ipython-input-8-1491490294.py:1: SettingWithCopyWarning: \n",
            "A value is trying to be set on a copy of a slice from a DataFrame\n",
            "\n",
            "See the caveats in the documentation: https://pandas.pydata.org/pandas-docs/stable/user_guide/indexing.html#returning-a-view-versus-a-copy\n",
            "  df_train.fillna(0, inplace=True)\n"
          ]
        }
      ]
    },
    {
      "cell_type": "code",
      "source": [
        "df_train.info()"
      ],
      "metadata": {
        "colab": {
          "base_uri": "https://localhost:8080/"
        },
        "id": "WZAA0Trhfw4-",
        "outputId": "bb16ac65-d1eb-4797-bc0d-c316a3d59eb4"
      },
      "execution_count": 9,
      "outputs": [
        {
          "output_type": "stream",
          "name": "stdout",
          "text": [
            "<class 'pandas.core.frame.DataFrame'>\n",
            "RangeIndex: 347 entries, 0 to 346\n",
            "Data columns (total 38 columns):\n",
            " #   Column                         Non-Null Count  Dtype  \n",
            "---  ------                         --------------  -----  \n",
            " 0   D0_idade                       347 non-null    int64  \n",
            " 1   D0_genero                      347 non-null    int64  \n",
            " 2   D0_cor                         347 non-null    int64  \n",
            " 3   D0_febre_episodio1             347 non-null    int64  \n",
            " 4   D0_cefaleia_episodio1          347 non-null    int64  \n",
            " 5   D0_fadiga_episodio1            347 non-null    int64  \n",
            " 6   D0_palidez_episodio1           347 non-null    int64  \n",
            " 7   D0_hiperemia_episodio1         347 non-null    int64  \n",
            " 8   D0_turvacao_episodio1          347 non-null    int64  \n",
            " 9   D0_nausea_episodio1            347 non-null    int64  \n",
            " 10  D0_vomito_episodio1            347 non-null    int64  \n",
            " 11  D0_diarreia_episodio1          347 non-null    int64  \n",
            " 12  D0_parestesia_episodio1        347 non-null    int64  \n",
            " 13  D0_disestesia_episodio1        347 non-null    float64\n",
            " 14  D0_artralgia_episodio1         347 non-null    int64  \n",
            " 15  D0_edema_episodio1             347 non-null    int64  \n",
            " 16  D0_mialgia_episodio1           347 non-null    int64  \n",
            " 17  D0_lombalgia_episodio1         347 non-null    int64  \n",
            " 18  D0_prurido_episodio1           347 non-null    int64  \n",
            " 19  D0_rash_episodio1              347 non-null    int64  \n",
            " 20  D0_lesoes_episodio1            347 non-null    int64  \n",
            " 21  D0_alopecia_episodio1          347 non-null    int64  \n",
            " 22  D0_alteracaomemoria_episodio1  347 non-null    int64  \n",
            " 23  D0_alteracaolibido_episodio1   347 non-null    int64  \n",
            " 24  D0_enpp_fadiga                 347 non-null    int64  \n",
            " 25  D0_intensdor_ombroe            347 non-null    int64  \n",
            " 26  D0_intensdor_ombrod            347 non-null    int64  \n",
            " 27  D0_intensdor_punhoe            347 non-null    int64  \n",
            " 28  D0_intensdor_punhod            347 non-null    int64  \n",
            " 29  D0_intensdor_dedomaoe          347 non-null    int64  \n",
            " 30  D0_intensdor_dedomaod          347 non-null    int64  \n",
            " 31  D0_intensdor_joelhoe           347 non-null    int64  \n",
            " 32  D0_intensdor_joelhod           347 non-null    int64  \n",
            " 33  D0_intensdor_tornozeloe        347 non-null    int64  \n",
            " 34  D0_intensdor_tornozelod        347 non-null    int64  \n",
            " 35  D0_intensdor_dedopee           347 non-null    int64  \n",
            " 36  D0_intensdor_dedoped           347 non-null    int64  \n",
            " 37  D0_Novo critério (0-3/4-10)    347 non-null    int64  \n",
            "dtypes: float64(1), int64(37)\n",
            "memory usage: 103.1 KB\n"
          ]
        }
      ]
    },
    {
      "cell_type": "code",
      "source": [
        "average = 173\n",
        "X = df_train.drop('D0_Novo critério (0-3/4-10)', axis=1)\n",
        "y = df_train['D0_Novo critério (0-3/4-10)']\n",
        "\n",
        "X = df_train.drop('D0_Novo critério (0-3/4-10)', axis=1)\n",
        "\n",
        "y = df_train['D0_Novo critério (0-3/4-10)'].astype(int)\n",
        "under_sampler = RandomUnderSampler(sampling_strategy={1: average}, random_state=42)\n",
        "over_sampler = RandomOverSampler(sampling_strategy={0: average}, random_state=42)\n",
        "X_resampled, y_resampled = under_sampler.fit_resample(X, y)\n",
        "X_resampled, y_resampled = over_sampler.fit_resample(X_resampled, y_resampled)\n",
        "\n",
        "X_train, X_test, y_train, y_test = train_test_split(X_resampled, y_resampled, test_size=0.3, random_state=42)"
      ],
      "metadata": {
        "id": "izV3wrghfXSi"
      },
      "execution_count": 11,
      "outputs": []
    },
    {
      "cell_type": "markdown",
      "source": [
        "##Bayes"
      ],
      "metadata": {
        "id": "PzSGrqwTf6vc"
      }
    },
    {
      "cell_type": "code",
      "source": [
        "def bayes_search_results(model,name):\n",
        "  # Obter os melhores parâmetros\n",
        "  melhor_parametro = model.best_params_\n",
        "\n",
        "  # Converter o dicionário em DataFrame\n",
        "  df_melhor_parametro = pd.DataFrame.from_dict(melhor_parametro, orient='index', columns=['Valor'])\n",
        "  # Adicionar colunas de nome e tipo\n",
        "  df_melhor_parametro.index.names = ['Nome do Parâmetro']\n",
        "  df_melhor_parametro['Tipo'] = df_melhor_parametro.index.dtype\n",
        "\n",
        "  # Exibir o DataFrame\n",
        "  df_melhor_parametro.to_excel(f'/content/drive/MyDrive/_MESTRADO/REPLICK/Colabs/2025.1/PAHO guideline exemperimentos/BS_results/{name}_melhor_parametro.xlsx')\n",
        "  return df_melhor_parametro\n",
        "def bayes_search(X_train, y_train, model, search_space):\n",
        "  model_bayes = BayesSearchCV(\n",
        "    model,\n",
        "    search_space,\n",
        "    n_iter=1,\n",
        "    cv=5,\n",
        "    random_state=42,\n",
        "    verbose=100\n",
        ")\n",
        "\n",
        "  # Realize a busca bayesiana\n",
        "  model_bayes.fit(X_train, y_train)\n",
        "\n",
        "    # Os melhores hiperparâmetros encontrados\n",
        "  print(\"Melhores hiperparâmetros:\", model_bayes.best_params_)\n",
        "\n",
        "  # A melhor pontuação (geralmente uma métrica de desempenho, como precisão)\n",
        "  print(\"Melhor pontuação:\", model_bayes.best_score_)\n",
        "\n",
        "  bayes_search_results(model_bayes, model.__class__.__name__)"
      ],
      "metadata": {
        "id": "dvdIqVQ8jGpJ"
      },
      "execution_count": 26,
      "outputs": []
    },
    {
      "cell_type": "code",
      "source": [
        "models_and_params = {\n",
        "    'AdaBoost': {\n",
        "        'model': AdaBoostClassifier(random_state=42),\n",
        "        'params': {\n",
        "            'n_estimators': Integer(10, 1000),\n",
        "            'learning_rate': Real(0.01, 2.0),\n",
        "            'algorithm': Categorical(['SAMME', 'SAMME.R']),\n",
        "        },\n",
        "    },\n",
        "    'GradientBoosting': {\n",
        "        'model': GradientBoostingClassifier(),\n",
        "        'params': {\n",
        "            'n_estimators': Integer(10, 1000),\n",
        "            'max_depth': Integer(2, 1000),\n",
        "            'min_samples_split': Real(0.01, 0.99),\n",
        "            'min_samples_leaf': Real(0.01, 0.5),\n",
        "            'criterion': Categorical(['gini', 'entropy']),\n",
        "        },\n",
        "    },\n",
        "    'RandomForest': {\n",
        "        'model': RandomForestClassifier(random_state=42),\n",
        "        'params': {\n",
        "            'n_estimators': Integer(10, 1000),\n",
        "            'max_depth': Integer(2, 1000),\n",
        "            'min_samples_split': Real(0.01, 0.99),\n",
        "            'min_samples_leaf': Real(0.01, 0.5),\n",
        "            'criterion': Categorical(['gini', 'entropy']),\n",
        "        },\n",
        "    },\n",
        "    'XGBoost': {\n",
        "        'model': xgb.XGBClassifier(),\n",
        "        'params': {\n",
        "            'n_estimators': Integer(10, 999),\n",
        "            'learning_rate': Real(0.01, 1.0),\n",
        "            'max_depth': Integer(2, 999),\n",
        "            'subsample': Real(0.01, 1.0),\n",
        "            'colsample_bytree': Real(0.01, 0.5),\n",
        "        },\n",
        "    },\n",
        "    'CatBoost': {\n",
        "        'model': catboost.CatBoostClassifier(verbose=False, random_state=42),\n",
        "        'params': {\n",
        "            'iterations': Integer(10, 1000),\n",
        "            'learning_rate': Real(0.01, 1.0),\n",
        "            'depth': Integer(2, 1000),\n",
        "            'l2_leaf_reg': Real(0.01, 10.0),\n",
        "            'border_count': Integer(10, 254),\n",
        "            'bagging_temperature': Real(0.0, 10.0),\n",
        "        },\n",
        "    },\n",
        "}\n"
      ],
      "metadata": {
        "id": "nDWpcgejf6p1"
      },
      "execution_count": 27,
      "outputs": []
    },
    {
      "cell_type": "code",
      "source": [
        "for name, params in models_and_params.items():\n",
        "  bayes_search(X_train, y_train, params['model'], params['params'])"
      ],
      "metadata": {
        "colab": {
          "base_uri": "https://localhost:8080/"
        },
        "id": "E3r5WRSOf6nM",
        "outputId": "d0368a6b-4732-4d02-8500-5af0f397ec83"
      },
      "execution_count": 28,
      "outputs": [
        {
          "output_type": "stream",
          "name": "stdout",
          "text": [
            "Fitting 5 folds for each of 1 candidates, totalling 5 fits\n",
            "[CV 1/5; 1/1] START algorithm=SAMME, learning_rate=1.458174228922877, n_estimators=934\n"
          ]
        },
        {
          "output_type": "stream",
          "name": "stderr",
          "text": [
            "/usr/local/lib/python3.11/dist-packages/sklearn/ensemble/_weight_boosting.py:519: FutureWarning: The parameter 'algorithm' is deprecated in 1.6 and has no effect. It will be removed in version 1.8.\n",
            "  warnings.warn(\n"
          ]
        },
        {
          "output_type": "stream",
          "name": "stdout",
          "text": [
            "[CV 1/5; 1/1] END algorithm=SAMME, learning_rate=1.458174228922877, n_estimators=934;, score=0.633 total time=   2.5s\n",
            "[CV 2/5; 1/1] START algorithm=SAMME, learning_rate=1.458174228922877, n_estimators=934\n"
          ]
        },
        {
          "output_type": "stream",
          "name": "stderr",
          "text": [
            "/usr/local/lib/python3.11/dist-packages/sklearn/ensemble/_weight_boosting.py:519: FutureWarning: The parameter 'algorithm' is deprecated in 1.6 and has no effect. It will be removed in version 1.8.\n",
            "  warnings.warn(\n"
          ]
        },
        {
          "output_type": "stream",
          "name": "stdout",
          "text": [
            "[CV 2/5; 1/1] END algorithm=SAMME, learning_rate=1.458174228922877, n_estimators=934;, score=0.653 total time=   2.0s\n",
            "[CV 3/5; 1/1] START algorithm=SAMME, learning_rate=1.458174228922877, n_estimators=934\n"
          ]
        },
        {
          "output_type": "stream",
          "name": "stderr",
          "text": [
            "/usr/local/lib/python3.11/dist-packages/sklearn/ensemble/_weight_boosting.py:519: FutureWarning: The parameter 'algorithm' is deprecated in 1.6 and has no effect. It will be removed in version 1.8.\n",
            "  warnings.warn(\n"
          ]
        },
        {
          "output_type": "stream",
          "name": "stdout",
          "text": [
            "[CV 3/5; 1/1] END algorithm=SAMME, learning_rate=1.458174228922877, n_estimators=934;, score=0.812 total time=   2.0s\n",
            "[CV 4/5; 1/1] START algorithm=SAMME, learning_rate=1.458174228922877, n_estimators=934\n"
          ]
        },
        {
          "output_type": "stream",
          "name": "stderr",
          "text": [
            "/usr/local/lib/python3.11/dist-packages/sklearn/ensemble/_weight_boosting.py:519: FutureWarning: The parameter 'algorithm' is deprecated in 1.6 and has no effect. It will be removed in version 1.8.\n",
            "  warnings.warn(\n"
          ]
        },
        {
          "output_type": "stream",
          "name": "stdout",
          "text": [
            "[CV 4/5; 1/1] END algorithm=SAMME, learning_rate=1.458174228922877, n_estimators=934;, score=0.667 total time=   3.0s\n",
            "[CV 5/5; 1/1] START algorithm=SAMME, learning_rate=1.458174228922877, n_estimators=934\n"
          ]
        },
        {
          "output_type": "stream",
          "name": "stderr",
          "text": [
            "/usr/local/lib/python3.11/dist-packages/sklearn/ensemble/_weight_boosting.py:519: FutureWarning: The parameter 'algorithm' is deprecated in 1.6 and has no effect. It will be removed in version 1.8.\n",
            "  warnings.warn(\n"
          ]
        },
        {
          "output_type": "stream",
          "name": "stdout",
          "text": [
            "[CV 5/5; 1/1] END algorithm=SAMME, learning_rate=1.458174228922877, n_estimators=934;, score=0.688 total time=   2.4s\n"
          ]
        },
        {
          "output_type": "stream",
          "name": "stderr",
          "text": [
            "/usr/local/lib/python3.11/dist-packages/sklearn/ensemble/_weight_boosting.py:519: FutureWarning: The parameter 'algorithm' is deprecated in 1.6 and has no effect. It will be removed in version 1.8.\n",
            "  warnings.warn(\n"
          ]
        },
        {
          "output_type": "stream",
          "name": "stdout",
          "text": [
            "Melhores hiperparâmetros: OrderedDict([('algorithm', 'SAMME'), ('learning_rate', 1.458174228922877), ('n_estimators', 934)])\n",
            "Melhor pontuação: 0.6904761904761905\n"
          ]
        }
      ]
    },
    {
      "cell_type": "code",
      "source": [],
      "metadata": {
        "id": "LCJuVCzlf6kc"
      },
      "execution_count": null,
      "outputs": []
    },
    {
      "cell_type": "code",
      "source": [],
      "metadata": {
        "id": "0NK7huY_f6hs"
      },
      "execution_count": null,
      "outputs": []
    },
    {
      "cell_type": "code",
      "source": [],
      "metadata": {
        "id": "XRT46jykf6e0"
      },
      "execution_count": null,
      "outputs": []
    },
    {
      "cell_type": "code",
      "source": [],
      "metadata": {
        "id": "OYulXzhRf6W1"
      },
      "execution_count": null,
      "outputs": []
    },
    {
      "cell_type": "code",
      "source": [],
      "metadata": {
        "id": "9WflqpJFf6RN"
      },
      "execution_count": null,
      "outputs": []
    }
  ]
}